{
 "cells": [
  {
   "cell_type": "code",
   "execution_count": 23,
   "id": "c60ffde1",
   "metadata": {},
   "outputs": [],
   "source": [
    "from sklearn.datasets import load_iris\n",
    "from math import ceil\n",
    "import numpy as np"
   ]
  },
  {
   "cell_type": "code",
   "execution_count": 2,
   "id": "7e53e49a",
   "metadata": {},
   "outputs": [],
   "source": [
    "df = load_iris()"
   ]
  },
  {
   "cell_type": "code",
   "execution_count": 3,
   "id": "49c2e1d1",
   "metadata": {},
   "outputs": [],
   "source": [
    "features = df['data'] \n",
    "target = df['target']"
   ]
  },
  {
   "cell_type": "code",
   "execution_count": 4,
   "id": "67690666",
   "metadata": {},
   "outputs": [],
   "source": [
    "from sklearn.model_selection import train_test_split\n",
    "\n",
    "features_train, features_test, target_train, target_test = train_test_split(features, target, \n",
    "                                                                            test_size=0.33, random_state = 83)"
   ]
  },
  {
   "cell_type": "code",
   "execution_count": 5,
   "id": "36ec2f4b",
   "metadata": {},
   "outputs": [],
   "source": [
    "from sklearn.preprocessing import StandardScaler"
   ]
  },
  {
   "cell_type": "code",
   "execution_count": 6,
   "id": "4cdcd99b",
   "metadata": {},
   "outputs": [],
   "source": [
    "scaler = StandardScaler()\n",
    "\n",
    "features_train = scaler.fit_transform(features_train)\n",
    "features_test = scaler.transform(features_test)"
   ]
  },
  {
   "cell_type": "code",
   "execution_count": 8,
   "id": "dca259d3",
   "metadata": {},
   "outputs": [],
   "source": [
    "from keras.utils import to_categorical"
   ]
  },
  {
   "cell_type": "code",
   "execution_count": 9,
   "id": "a9ca0ea7",
   "metadata": {},
   "outputs": [],
   "source": [
    "target_train = to_categorical(target_train)\n",
    "target_test = to_categorical(target_test)"
   ]
  },
  {
   "cell_type": "code",
   "execution_count": 11,
   "id": "343977b0",
   "metadata": {},
   "outputs": [],
   "source": [
    "import torch\n",
    "import torch.nn as nn\n",
    "from torch.optim import Adam"
   ]
  },
  {
   "cell_type": "code",
   "execution_count": 31,
   "id": "fa6d811b",
   "metadata": {},
   "outputs": [],
   "source": [
    "features_train = torch.FloatTensor(features_train)\n",
    "features_test = torch.FloatTensor(features_test)\n",
    "target_train = torch.FloatTensor(target_train)\n",
    "target_test = torch.FloatTensor(target_test)"
   ]
  },
  {
   "cell_type": "code",
   "execution_count": 32,
   "id": "9bdf45d0",
   "metadata": {},
   "outputs": [],
   "source": [
    "n_in_neurons = 4\n",
    "n_hidden_neurons_1 = 30\n",
    "n_hidden_neurons_2 = 20\n",
    "n_out_neurons = 3"
   ]
  },
  {
   "cell_type": "code",
   "execution_count": 33,
   "id": "787fdd20",
   "metadata": {},
   "outputs": [],
   "source": [
    "class Model(nn.Module):\n",
    "    def __init__(self,n_in_neurons, n_hidden_neurons_1, \n",
    "                 n_hidden_neurons_2, n_out_neurons):\n",
    "        super(Model, self).__init__()\n",
    "        \n",
    "        self.fc1 = nn.Linear(n_in_neurons, n_hidden_neurons_1)\n",
    "        self.act1 = nn.ReLU()\n",
    "        self.dp2 = nn.Dropout(p=0.2)\n",
    "        self.fc2 = nn.Linear(n_hidden_neurons_1, n_hidden_neurons_2)\n",
    "        self.bn2 = nn.BatchNorm1d(n_hidden_neurons_2)\n",
    "        self.act2 = nn.ReLU()\n",
    "        self.fc3 = nn.Linear(n_hidden_neurons_2, n_out_neurons)\n",
    "        self.act3 = nn.Softmax(dim=1)\n",
    "        \n",
    "    def forward(self, x):\n",
    "        x = self.fc1(x)\n",
    "        x = self.act1(x)\n",
    "        x = self.dp2(x)\n",
    "        x = self.fc2(x)\n",
    "        x = self.bn2(x)\n",
    "        x = self.act2(x)\n",
    "        x = self.fc3(x)\n",
    "        x = self.act3(x)\n",
    "        \n",
    "        return x"
   ]
  },
  {
   "cell_type": "code",
   "execution_count": 34,
   "id": "0bfc2f70",
   "metadata": {},
   "outputs": [],
   "source": [
    "net = Model(n_in_neurons, n_hidden_neurons_1, n_hidden_neurons_2, \n",
    "            n_out_neurons)\n",
    "\n",
    "loss = nn.CrossEntropyLoss()\n",
    "optimizer = torch.optim.Adam(net.parameters(), lr=1e-3)\n",
    "num_epochs = 100\n",
    "batch_size = 5\n",
    "num_bathces = ceil(len(features_train)/batch_size)"
   ]
  },
  {
   "cell_type": "code",
   "execution_count": 35,
   "id": "16f1033c",
   "metadata": {},
   "outputs": [
    {
     "name": "stdout",
     "output_type": "stream",
     "text": [
      "Категориальная кросс энтропия = : tensor(1.1833, grad_fn=<DivBackward1>)\n",
      "Категориальная кросс энтропия = : tensor(0.7039, grad_fn=<DivBackward1>)\n",
      "Категориальная кросс энтропия = : tensor(0.6087, grad_fn=<DivBackward1>)\n",
      "Категориальная кросс энтропия = : tensor(0.5994, grad_fn=<DivBackward1>)\n",
      "Категориальная кросс энтропия = : tensor(0.6000, grad_fn=<DivBackward1>)\n",
      "Категориальная кросс энтропия = : tensor(0.5971, grad_fn=<DivBackward1>)\n",
      "Категориальная кросс энтропия = : tensor(0.5975, grad_fn=<DivBackward1>)\n",
      "Категориальная кросс энтропия = : tensor(0.5951, grad_fn=<DivBackward1>)\n",
      "Категориальная кросс энтропия = : tensor(0.5945, grad_fn=<DivBackward1>)\n",
      "Категориальная кросс энтропия = : tensor(0.5920, grad_fn=<DivBackward1>)\n",
      "Категориальная кросс энтропия = : tensor(0.5956, grad_fn=<DivBackward1>)\n"
     ]
    }
   ],
   "source": [
    "for epoch in range(num_epochs):\n",
    "    order = np.random.permutation(len(features_train))\n",
    "    \n",
    "    for batch_idx in range(num_bathces):\n",
    "        srart_index = batch_idx*batch_size\n",
    "        optimizer.zero_grad()\n",
    "        \n",
    "        batch_indexes = order[srart_index:(srart_index+batch_size)]\n",
    "        X_batch = features_train[batch_indexes]\n",
    "        y_batch = target_train[batch_indexes]\n",
    "        \n",
    "        preds = net.forward(X_batch).flatten()\n",
    "        loss_value = loss(preds, y_batch.flatten())\n",
    "        loss_value.backward()\n",
    "        optimizer.step()\n",
    "        \n",
    "    if epoch % 10 == 0 or epoch == num_epochs - 1:\n",
    "        net.eval()\n",
    "        test_preds = net.forward(features_test)\n",
    "        print('Категориальная кросс энтропия = :', \n",
    "              loss(target_test, test_preds))"
   ]
  },
  {
   "cell_type": "code",
   "execution_count": 36,
   "id": "7a9cd471",
   "metadata": {},
   "outputs": [],
   "source": [
    "net.eval()\n",
    "test_preds = net.forward(features_test)"
   ]
  },
  {
   "cell_type": "code",
   "execution_count": 37,
   "id": "47083c18",
   "metadata": {},
   "outputs": [
    {
     "data": {
      "text/plain": [
       "tensor([[8.9685e-12, 2.1259e-07, 1.0000e+00],\n",
       "        [9.9895e-01, 1.0487e-03, 1.1240e-15],\n",
       "        [5.4513e-08, 1.1911e-04, 9.9988e-01],\n",
       "        [9.9938e-01, 6.2495e-04, 2.1103e-14],\n",
       "        [1.6532e-08, 2.2926e-05, 9.9998e-01],\n",
       "        [4.0395e-05, 9.0008e-01, 9.9875e-02],\n",
       "        [9.9992e-01, 8.4452e-05, 3.0252e-15],\n",
       "        [9.9992e-01, 7.6844e-05, 7.1767e-16],\n",
       "        [9.9986e-01, 1.4219e-04, 6.2625e-15],\n",
       "        [9.4060e-10, 2.0757e-06, 1.0000e+00],\n",
       "        [9.9994e-01, 5.9178e-05, 8.0684e-16],\n",
       "        [1.6545e-04, 9.9970e-01, 1.3303e-04],\n",
       "        [3.9891e-06, 3.1388e-02, 9.6861e-01],\n",
       "        [1.4542e-09, 4.1828e-06, 1.0000e+00],\n",
       "        [5.2813e-07, 1.6252e-03, 9.9837e-01],\n",
       "        [4.8243e-05, 9.9919e-01, 7.6404e-04],\n",
       "        [9.9986e-01, 1.4422e-04, 2.2523e-14],\n",
       "        [5.6356e-05, 9.9994e-01, 7.5484e-06],\n",
       "        [2.7285e-05, 9.9990e-01, 6.7885e-05],\n",
       "        [1.9141e-05, 9.9998e-01, 3.2547e-06],\n",
       "        [1.9483e-08, 2.5305e-05, 9.9997e-01],\n",
       "        [6.5556e-05, 9.9993e-01, 6.8421e-06],\n",
       "        [1.0625e-04, 9.9989e-01, 3.2514e-06],\n",
       "        [9.9995e-01, 4.7620e-05, 8.1064e-19],\n",
       "        [9.9985e-01, 1.4725e-04, 4.0525e-16],\n",
       "        [9.9986e-01, 1.4328e-04, 2.4026e-16],\n",
       "        [9.9982e-01, 1.7632e-04, 4.1212e-14],\n",
       "        [1.3816e-05, 9.9997e-01, 1.2141e-05],\n",
       "        [6.3348e-05, 3.2154e-01, 6.7840e-01],\n",
       "        [2.6606e-06, 7.7678e-03, 9.9223e-01],\n",
       "        [6.5883e-07, 1.8641e-03, 9.9814e-01],\n",
       "        [2.7505e-05, 9.9997e-01, 2.1270e-06],\n",
       "        [1.8782e-04, 9.9981e-01, 9.1037e-07],\n",
       "        [3.9256e-11, 3.6680e-07, 1.0000e+00],\n",
       "        [2.7156e-06, 1.3157e-01, 8.6843e-01],\n",
       "        [7.7235e-09, 3.1232e-05, 9.9997e-01],\n",
       "        [9.9972e-01, 2.7679e-04, 1.8265e-16],\n",
       "        [1.5282e-10, 2.1089e-06, 1.0000e+00],\n",
       "        [3.8128e-09, 6.9959e-06, 9.9999e-01],\n",
       "        [9.9997e-01, 3.1418e-05, 1.9214e-16],\n",
       "        [9.1936e-05, 9.9989e-01, 1.4378e-05],\n",
       "        [1.3449e-05, 9.9997e-01, 1.5588e-05],\n",
       "        [2.6456e-05, 9.9997e-01, 1.1074e-06],\n",
       "        [9.9988e-01, 1.2421e-04, 1.4452e-14],\n",
       "        [3.8185e-05, 9.9874e-01, 1.2251e-03],\n",
       "        [9.9982e-01, 1.7736e-04, 4.2061e-14],\n",
       "        [2.9821e-05, 6.7398e-02, 9.3257e-01],\n",
       "        [1.9327e-04, 9.9968e-01, 1.2524e-04],\n",
       "        [1.3939e-03, 9.9860e-01, 6.0197e-06],\n",
       "        [9.9994e-01, 6.1439e-05, 1.6754e-15]], grad_fn=<SoftmaxBackward0>)"
      ]
     },
     "execution_count": 37,
     "metadata": {},
     "output_type": "execute_result"
    }
   ],
   "source": [
    "test_preds"
   ]
  }
 ],
 "metadata": {
  "kernelspec": {
   "display_name": "Python 3 (ipykernel)",
   "language": "python",
   "name": "python3"
  },
  "language_info": {
   "codemirror_mode": {
    "name": "ipython",
    "version": 3
   },
   "file_extension": ".py",
   "mimetype": "text/x-python",
   "name": "python",
   "nbconvert_exporter": "python",
   "pygments_lexer": "ipython3",
   "version": "3.9.10"
  }
 },
 "nbformat": 4,
 "nbformat_minor": 5
}
