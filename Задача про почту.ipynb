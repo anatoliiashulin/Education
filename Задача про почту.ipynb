{
 "cells": [
  {
   "cell_type": "markdown",
   "id": "70a9f0b1",
   "metadata": {},
   "source": [
    "Дана задача.    \n",
    "Имеются населённые пункты. Даны координты их координатоы и количество посылок необходимое туда достаивть.    \n",
    "Надо определить в каком посёлке лучше всего разместить почтовый центр.    \n"
   ]
  },
  {
   "cell_type": "code",
   "execution_count": 1,
   "id": "5653171f",
   "metadata": {},
   "outputs": [],
   "source": [
    "import numpy as np\n",
    "import pandas as pd\n",
    "from scipy.spatial import distance"
   ]
  },
  {
   "cell_type": "code",
   "execution_count": 2,
   "id": "3271d93c",
   "metadata": {},
   "outputs": [],
   "source": [
    "x_axis = np.array([0.0, 0.18078584, 9.32526599, 17.09628721,\n",
    "                      4.69820241, 11.57529305, 11.31769349, 14.63378951])"
   ]
  },
  {
   "cell_type": "code",
   "execution_count": 3,
   "id": "6e47d907",
   "metadata": {},
   "outputs": [],
   "source": [
    "y_axis  = np.array([0.0, 7.03050245, 9.06193657, 0.1718145,\n",
    "                      5.1383203, 0.11069032, 3.27703365, 5.36870287])"
   ]
  },
  {
   "cell_type": "code",
   "execution_count": 4,
   "id": "e0ecdbc8",
   "metadata": {},
   "outputs": [],
   "source": [
    "shipments = np.array([5, 7, 4, 3, 5, 2, 1, 1])"
   ]
  },
  {
   "cell_type": "code",
   "execution_count": 5,
   "id": "34954bfb",
   "metadata": {},
   "outputs": [],
   "source": [
    "village = ['Тетерье',  \n",
    "           'Журавец', \n",
    "           'Корсунь', \n",
    "           'Берёзовка', \n",
    "           'Протасово',  \n",
    "           'Трудки',  \n",
    "           'Нижний Туровец',  \n",
    "           'Вышний Туровец']"
   ]
  },
  {
   "cell_type": "code",
   "execution_count": 6,
   "id": "edf79c63",
   "metadata": {},
   "outputs": [],
   "source": [
    "data = pd.DataFrame({'x_coordinates_km': x_axis,\n",
    "                     'y_coordinates_km': y_axis, \n",
    "                     'deliveries': shipments}, index=village)"
   ]
  },
  {
   "cell_type": "code",
   "execution_count": 7,
   "id": "ee04270b",
   "metadata": {},
   "outputs": [
    {
     "data": {
      "text/html": [
       "<div>\n",
       "<style scoped>\n",
       "    .dataframe tbody tr th:only-of-type {\n",
       "        vertical-align: middle;\n",
       "    }\n",
       "\n",
       "    .dataframe tbody tr th {\n",
       "        vertical-align: top;\n",
       "    }\n",
       "\n",
       "    .dataframe thead th {\n",
       "        text-align: right;\n",
       "    }\n",
       "</style>\n",
       "<table border=\"1\" class=\"dataframe\">\n",
       "  <thead>\n",
       "    <tr style=\"text-align: right;\">\n",
       "      <th></th>\n",
       "      <th>x_coordinates_km</th>\n",
       "      <th>y_coordinates_km</th>\n",
       "      <th>deliveries</th>\n",
       "    </tr>\n",
       "  </thead>\n",
       "  <tbody>\n",
       "    <tr>\n",
       "      <th>Тетерье</th>\n",
       "      <td>0.000000</td>\n",
       "      <td>0.000000</td>\n",
       "      <td>5</td>\n",
       "    </tr>\n",
       "    <tr>\n",
       "      <th>Журавец</th>\n",
       "      <td>0.180786</td>\n",
       "      <td>7.030502</td>\n",
       "      <td>7</td>\n",
       "    </tr>\n",
       "    <tr>\n",
       "      <th>Корсунь</th>\n",
       "      <td>9.325266</td>\n",
       "      <td>9.061937</td>\n",
       "      <td>4</td>\n",
       "    </tr>\n",
       "    <tr>\n",
       "      <th>Берёзовка</th>\n",
       "      <td>17.096287</td>\n",
       "      <td>0.171815</td>\n",
       "      <td>3</td>\n",
       "    </tr>\n",
       "    <tr>\n",
       "      <th>Протасово</th>\n",
       "      <td>4.698202</td>\n",
       "      <td>5.138320</td>\n",
       "      <td>5</td>\n",
       "    </tr>\n",
       "    <tr>\n",
       "      <th>Трудки</th>\n",
       "      <td>11.575293</td>\n",
       "      <td>0.110690</td>\n",
       "      <td>2</td>\n",
       "    </tr>\n",
       "    <tr>\n",
       "      <th>Нижний Туровец</th>\n",
       "      <td>11.317693</td>\n",
       "      <td>3.277034</td>\n",
       "      <td>1</td>\n",
       "    </tr>\n",
       "    <tr>\n",
       "      <th>Вышний Туровец</th>\n",
       "      <td>14.633790</td>\n",
       "      <td>5.368703</td>\n",
       "      <td>1</td>\n",
       "    </tr>\n",
       "  </tbody>\n",
       "</table>\n",
       "</div>"
      ],
      "text/plain": [
       "                x_coordinates_km  y_coordinates_km  deliveries\n",
       "Тетерье                 0.000000          0.000000           5\n",
       "Журавец                 0.180786          7.030502           7\n",
       "Корсунь                 9.325266          9.061937           4\n",
       "Берёзовка              17.096287          0.171815           3\n",
       "Протасово               4.698202          5.138320           5\n",
       "Трудки                 11.575293          0.110690           2\n",
       "Нижний Туровец         11.317693          3.277034           1\n",
       "Вышний Туровец         14.633790          5.368703           1"
      ]
     },
     "execution_count": 7,
     "metadata": {},
     "output_type": "execute_result"
    }
   ],
   "source": [
    "data"
   ]
  },
  {
   "cell_type": "code",
   "execution_count": 8,
   "id": "46f7cc5c",
   "metadata": {},
   "outputs": [],
   "source": [
    "vectors = data[['x_coordinates_km', 'y_coordinates_km']].values"
   ]
  },
  {
   "cell_type": "code",
   "execution_count": 9,
   "id": "069f57c1",
   "metadata": {},
   "outputs": [],
   "source": [
    "distances = []\n",
    "for village_from in range(len(village)):\n",
    "    row = []\n",
    "    for village_to in range(len(village)):\n",
    "        value = distance.euclidean(vectors[village_from], vectors[village_to])\n",
    "        row.append(value)\n",
    "    distances.append(row)"
   ]
  },
  {
   "cell_type": "code",
   "execution_count": 10,
   "id": "b33a608d",
   "metadata": {},
   "outputs": [
    {
     "data": {
      "text/html": [
       "<div>\n",
       "<style scoped>\n",
       "    .dataframe tbody tr th:only-of-type {\n",
       "        vertical-align: middle;\n",
       "    }\n",
       "\n",
       "    .dataframe tbody tr th {\n",
       "        vertical-align: top;\n",
       "    }\n",
       "\n",
       "    .dataframe thead th {\n",
       "        text-align: right;\n",
       "    }\n",
       "</style>\n",
       "<table border=\"1\" class=\"dataframe\">\n",
       "  <thead>\n",
       "    <tr style=\"text-align: right;\">\n",
       "      <th></th>\n",
       "      <th>Тетерье</th>\n",
       "      <th>Журавец</th>\n",
       "      <th>Корсунь</th>\n",
       "      <th>Берёзовка</th>\n",
       "      <th>Протасово</th>\n",
       "      <th>Трудки</th>\n",
       "      <th>Нижний Туровец</th>\n",
       "      <th>Вышний Туровец</th>\n",
       "    </tr>\n",
       "  </thead>\n",
       "  <tbody>\n",
       "    <tr>\n",
       "      <th>Тетерье</th>\n",
       "      <td>0.000000</td>\n",
       "      <td>7.032826</td>\n",
       "      <td>13.003049</td>\n",
       "      <td>17.097151</td>\n",
       "      <td>6.962431</td>\n",
       "      <td>11.575822</td>\n",
       "      <td>11.782578</td>\n",
       "      <td>15.587520</td>\n",
       "    </tr>\n",
       "    <tr>\n",
       "      <th>Журавец</th>\n",
       "      <td>7.032826</td>\n",
       "      <td>0.000000</td>\n",
       "      <td>9.367403</td>\n",
       "      <td>18.253103</td>\n",
       "      <td>4.897694</td>\n",
       "      <td>13.331114</td>\n",
       "      <td>11.752414</td>\n",
       "      <td>14.548226</td>\n",
       "    </tr>\n",
       "    <tr>\n",
       "      <th>Корсунь</th>\n",
       "      <td>13.003049</td>\n",
       "      <td>9.367403</td>\n",
       "      <td>0.000000</td>\n",
       "      <td>11.807753</td>\n",
       "      <td>6.066670</td>\n",
       "      <td>9.229704</td>\n",
       "      <td>6.118404</td>\n",
       "      <td>6.466869</td>\n",
       "    </tr>\n",
       "    <tr>\n",
       "      <th>Берёзовка</th>\n",
       "      <td>17.097151</td>\n",
       "      <td>18.253103</td>\n",
       "      <td>11.807753</td>\n",
       "      <td>0.000000</td>\n",
       "      <td>13.355848</td>\n",
       "      <td>5.521333</td>\n",
       "      <td>6.560071</td>\n",
       "      <td>5.750786</td>\n",
       "    </tr>\n",
       "    <tr>\n",
       "      <th>Протасово</th>\n",
       "      <td>6.962431</td>\n",
       "      <td>4.897694</td>\n",
       "      <td>6.066670</td>\n",
       "      <td>13.355848</td>\n",
       "      <td>0.000000</td>\n",
       "      <td>8.518887</td>\n",
       "      <td>6.876194</td>\n",
       "      <td>9.938258</td>\n",
       "    </tr>\n",
       "    <tr>\n",
       "      <th>Трудки</th>\n",
       "      <td>11.575822</td>\n",
       "      <td>13.331114</td>\n",
       "      <td>9.229704</td>\n",
       "      <td>5.521333</td>\n",
       "      <td>8.518887</td>\n",
       "      <td>0.000000</td>\n",
       "      <td>3.176805</td>\n",
       "      <td>6.082853</td>\n",
       "    </tr>\n",
       "    <tr>\n",
       "      <th>Нижний Туровец</th>\n",
       "      <td>11.782578</td>\n",
       "      <td>11.752414</td>\n",
       "      <td>6.118404</td>\n",
       "      <td>6.560071</td>\n",
       "      <td>6.876194</td>\n",
       "      <td>3.176805</td>\n",
       "      <td>0.000000</td>\n",
       "      <td>3.920660</td>\n",
       "    </tr>\n",
       "    <tr>\n",
       "      <th>Вышний Туровец</th>\n",
       "      <td>15.587520</td>\n",
       "      <td>14.548226</td>\n",
       "      <td>6.466869</td>\n",
       "      <td>5.750786</td>\n",
       "      <td>9.938258</td>\n",
       "      <td>6.082853</td>\n",
       "      <td>3.920660</td>\n",
       "      <td>0.000000</td>\n",
       "    </tr>\n",
       "  </tbody>\n",
       "</table>\n",
       "</div>"
      ],
      "text/plain": [
       "                  Тетерье    Журавец    Корсунь  Берёзовка  Протасово  \\\n",
       "Тетерье          0.000000   7.032826  13.003049  17.097151   6.962431   \n",
       "Журавец          7.032826   0.000000   9.367403  18.253103   4.897694   \n",
       "Корсунь         13.003049   9.367403   0.000000  11.807753   6.066670   \n",
       "Берёзовка       17.097151  18.253103  11.807753   0.000000  13.355848   \n",
       "Протасово        6.962431   4.897694   6.066670  13.355848   0.000000   \n",
       "Трудки          11.575822  13.331114   9.229704   5.521333   8.518887   \n",
       "Нижний Туровец  11.782578  11.752414   6.118404   6.560071   6.876194   \n",
       "Вышний Туровец  15.587520  14.548226   6.466869   5.750786   9.938258   \n",
       "\n",
       "                   Трудки  Нижний Туровец  Вышний Туровец  \n",
       "Тетерье         11.575822       11.782578       15.587520  \n",
       "Журавец         13.331114       11.752414       14.548226  \n",
       "Корсунь          9.229704        6.118404        6.466869  \n",
       "Берёзовка        5.521333        6.560071        5.750786  \n",
       "Протасово        8.518887        6.876194        9.938258  \n",
       "Трудки           0.000000        3.176805        6.082853  \n",
       "Нижний Туровец   3.176805        0.000000        3.920660  \n",
       "Вышний Туровец   6.082853        3.920660        0.000000  "
      ]
     },
     "execution_count": 10,
     "metadata": {},
     "output_type": "execute_result"
    }
   ],
   "source": [
    "distances_df = pd.DataFrame(distances, index=village, columns=village)\n",
    "distances_df"
   ]
  },
  {
   "cell_type": "code",
   "execution_count": 11,
   "id": "a2f6c336",
   "metadata": {},
   "outputs": [],
   "source": [
    "shipping_in_week = []\n",
    "for i in range(len(distances)):\n",
    "    row = []\n",
    "    for j in range(len(distances)):\n",
    "        x = 2 * np.dot(np.array(distances[i][j]), shipments[j])\n",
    "        row.append(x)\n",
    "    shipping_in_week.append(sum(row))"
   ]
  },
  {
   "cell_type": "code",
   "execution_count": 12,
   "id": "6c526235",
   "metadata": {},
   "outputs": [],
   "source": [
    "shipping_in_week_df = pd.DataFrame({'distance': shipping_in_week}, index=village)"
   ]
  },
  {
   "cell_type": "code",
   "execution_count": 13,
   "id": "a783e912",
   "metadata": {},
   "outputs": [
    {
     "data": {
      "text/html": [
       "<div>\n",
       "<style scoped>\n",
       "    .dataframe tbody tr th:only-of-type {\n",
       "        vertical-align: middle;\n",
       "    }\n",
       "\n",
       "    .dataframe tbody tr th {\n",
       "        vertical-align: top;\n",
       "    }\n",
       "\n",
       "    .dataframe thead th {\n",
       "        text-align: right;\n",
       "    }\n",
       "</style>\n",
       "<table border=\"1\" class=\"dataframe\">\n",
       "  <thead>\n",
       "    <tr style=\"text-align: right;\">\n",
       "      <th></th>\n",
       "      <th>distance</th>\n",
       "    </tr>\n",
       "  </thead>\n",
       "  <tbody>\n",
       "    <tr>\n",
       "      <th>Тетерье</th>\n",
       "      <td>475.734656</td>\n",
       "    </tr>\n",
       "    <tr>\n",
       "      <th>Журавец</th>\n",
       "      <td>409.688787</td>\n",
       "    </tr>\n",
       "    <tr>\n",
       "      <th>Корсунь</th>\n",
       "      <td>454.776713</td>\n",
       "    </tr>\n",
       "    <tr>\n",
       "      <th>Берёзовка</th>\n",
       "      <td>701.242510</td>\n",
       "    </tr>\n",
       "    <tr>\n",
       "      <th>Протасово</th>\n",
       "      <td>334.564924</td>\n",
       "    </tr>\n",
       "    <tr>\n",
       "      <th>Трудки</th>\n",
       "      <td>513.067627</td>\n",
       "    </tr>\n",
       "    <tr>\n",
       "      <th>Нижний Туровец</th>\n",
       "      <td>459.977717</td>\n",
       "    </tr>\n",
       "    <tr>\n",
       "      <th>Вышний Туровец</th>\n",
       "      <td>577.345345</td>\n",
       "    </tr>\n",
       "  </tbody>\n",
       "</table>\n",
       "</div>"
      ],
      "text/plain": [
       "                  distance\n",
       "Тетерье         475.734656\n",
       "Журавец         409.688787\n",
       "Корсунь         454.776713\n",
       "Берёзовка       701.242510\n",
       "Протасово       334.564924\n",
       "Трудки          513.067627\n",
       "Нижний Туровец  459.977717\n",
       "Вышний Туровец  577.345345"
      ]
     },
     "execution_count": 13,
     "metadata": {},
     "output_type": "execute_result"
    }
   ],
   "source": [
    "shipping_in_week_df"
   ]
  },
  {
   "cell_type": "code",
   "execution_count": 14,
   "id": "177dc105",
   "metadata": {},
   "outputs": [
    {
     "data": {
      "text/plain": [
       "'Протасово'"
      ]
     },
     "execution_count": 14,
     "metadata": {},
     "output_type": "execute_result"
    }
   ],
   "source": [
    "shipping_in_week_df.idxmin()[0]"
   ]
  }
 ],
 "metadata": {
  "kernelspec": {
   "display_name": "Python 3 (ipykernel)",
   "language": "python",
   "name": "python3"
  },
  "language_info": {
   "codemirror_mode": {
    "name": "ipython",
    "version": 3
   },
   "file_extension": ".py",
   "mimetype": "text/x-python",
   "name": "python",
   "nbconvert_exporter": "python",
   "pygments_lexer": "ipython3",
   "version": "3.9.10"
  }
 },
 "nbformat": 4,
 "nbformat_minor": 5
}
