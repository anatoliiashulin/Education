{
 "cells": [
  {
   "cell_type": "code",
   "execution_count": 1,
   "id": "bdb0fcf5",
   "metadata": {},
   "outputs": [],
   "source": [
    "import pandas as pd\n",
    "import numpy as np\n",
    "from scipy.spatial import distance"
   ]
  },
  {
   "cell_type": "code",
   "execution_count": 2,
   "id": "4f541822",
   "metadata": {},
   "outputs": [],
   "source": [
    "columns = ['комнаты', 'пл. общая', 'кухня', 'пл. жилая', 'этаж', 'всего этажей']\n",
    "realty = [\n",
    "    [1, 38.5, 6.9, 18.9, 3, 5],\n",
    "    [1, 38.0, 8.5, 19.2, 9, 17],\n",
    "    [1, 34.7, 10.3, 19.8, 1, 9],\n",
    "    [1, 45.9, 11.1, 17.5, 11, 23],\n",
    "    [1, 42.4, 10.0, 19.9, 6, 14],\n",
    "    [1, 46.0, 10.2, 20.5, 3, 12],\n",
    "    [2, 77.7, 13.2, 39.3, 3, 17],\n",
    "    [2, 69.8, 11.1, 31.4, 12, 23],\n",
    "    [2, 78.2, 19.4, 33.2, 4, 9],\n",
    "    [2, 55.5, 7.8, 29.6, 1, 25],\n",
    "    [2, 74.3, 16.0, 34.2, 14, 17],\n",
    "    [2, 78.3, 12.3, 42.6, 23, 23],\n",
    "    [2, 74.0, 18.1, 49.0, 8, 9],\n",
    "    [2, 91.4, 20.1, 60.4, 2, 10],\n",
    "    [3, 85.0, 17.8, 56.1, 14, 14],\n",
    "    [3, 79.8, 9.8, 44.8, 9, 10],\n",
    "    [3, 72.0, 10.2, 37.3, 7, 9],\n",
    "    [3, 95.3, 11.0, 51.5, 15, 23],\n",
    "    [3, 69.3, 8.5, 39.3, 4, 9],\n",
    "    [3, 89.8, 11.2, 58.2, 24, 25],\n",
    "]\n",
    "\n",
    "df_realty = pd.DataFrame(realty, columns=columns)"
   ]
  },
  {
   "cell_type": "code",
   "execution_count": 3,
   "id": "e4385b6e",
   "metadata": {},
   "outputs": [
    {
     "data": {
      "text/html": [
       "<div>\n",
       "<style scoped>\n",
       "    .dataframe tbody tr th:only-of-type {\n",
       "        vertical-align: middle;\n",
       "    }\n",
       "\n",
       "    .dataframe tbody tr th {\n",
       "        vertical-align: top;\n",
       "    }\n",
       "\n",
       "    .dataframe thead th {\n",
       "        text-align: right;\n",
       "    }\n",
       "</style>\n",
       "<table border=\"1\" class=\"dataframe\">\n",
       "  <thead>\n",
       "    <tr style=\"text-align: right;\">\n",
       "      <th></th>\n",
       "      <th>комнаты</th>\n",
       "      <th>пл. общая</th>\n",
       "      <th>кухня</th>\n",
       "      <th>пл. жилая</th>\n",
       "      <th>этаж</th>\n",
       "      <th>всего этажей</th>\n",
       "    </tr>\n",
       "  </thead>\n",
       "  <tbody>\n",
       "    <tr>\n",
       "      <th>0</th>\n",
       "      <td>1</td>\n",
       "      <td>38.5</td>\n",
       "      <td>6.9</td>\n",
       "      <td>18.9</td>\n",
       "      <td>3</td>\n",
       "      <td>5</td>\n",
       "    </tr>\n",
       "    <tr>\n",
       "      <th>1</th>\n",
       "      <td>1</td>\n",
       "      <td>38.0</td>\n",
       "      <td>8.5</td>\n",
       "      <td>19.2</td>\n",
       "      <td>9</td>\n",
       "      <td>17</td>\n",
       "    </tr>\n",
       "    <tr>\n",
       "      <th>2</th>\n",
       "      <td>1</td>\n",
       "      <td>34.7</td>\n",
       "      <td>10.3</td>\n",
       "      <td>19.8</td>\n",
       "      <td>1</td>\n",
       "      <td>9</td>\n",
       "    </tr>\n",
       "    <tr>\n",
       "      <th>3</th>\n",
       "      <td>1</td>\n",
       "      <td>45.9</td>\n",
       "      <td>11.1</td>\n",
       "      <td>17.5</td>\n",
       "      <td>11</td>\n",
       "      <td>23</td>\n",
       "    </tr>\n",
       "    <tr>\n",
       "      <th>4</th>\n",
       "      <td>1</td>\n",
       "      <td>42.4</td>\n",
       "      <td>10.0</td>\n",
       "      <td>19.9</td>\n",
       "      <td>6</td>\n",
       "      <td>14</td>\n",
       "    </tr>\n",
       "    <tr>\n",
       "      <th>5</th>\n",
       "      <td>1</td>\n",
       "      <td>46.0</td>\n",
       "      <td>10.2</td>\n",
       "      <td>20.5</td>\n",
       "      <td>3</td>\n",
       "      <td>12</td>\n",
       "    </tr>\n",
       "    <tr>\n",
       "      <th>6</th>\n",
       "      <td>2</td>\n",
       "      <td>77.7</td>\n",
       "      <td>13.2</td>\n",
       "      <td>39.3</td>\n",
       "      <td>3</td>\n",
       "      <td>17</td>\n",
       "    </tr>\n",
       "    <tr>\n",
       "      <th>7</th>\n",
       "      <td>2</td>\n",
       "      <td>69.8</td>\n",
       "      <td>11.1</td>\n",
       "      <td>31.4</td>\n",
       "      <td>12</td>\n",
       "      <td>23</td>\n",
       "    </tr>\n",
       "    <tr>\n",
       "      <th>8</th>\n",
       "      <td>2</td>\n",
       "      <td>78.2</td>\n",
       "      <td>19.4</td>\n",
       "      <td>33.2</td>\n",
       "      <td>4</td>\n",
       "      <td>9</td>\n",
       "    </tr>\n",
       "    <tr>\n",
       "      <th>9</th>\n",
       "      <td>2</td>\n",
       "      <td>55.5</td>\n",
       "      <td>7.8</td>\n",
       "      <td>29.6</td>\n",
       "      <td>1</td>\n",
       "      <td>25</td>\n",
       "    </tr>\n",
       "    <tr>\n",
       "      <th>10</th>\n",
       "      <td>2</td>\n",
       "      <td>74.3</td>\n",
       "      <td>16.0</td>\n",
       "      <td>34.2</td>\n",
       "      <td>14</td>\n",
       "      <td>17</td>\n",
       "    </tr>\n",
       "    <tr>\n",
       "      <th>11</th>\n",
       "      <td>2</td>\n",
       "      <td>78.3</td>\n",
       "      <td>12.3</td>\n",
       "      <td>42.6</td>\n",
       "      <td>23</td>\n",
       "      <td>23</td>\n",
       "    </tr>\n",
       "    <tr>\n",
       "      <th>12</th>\n",
       "      <td>2</td>\n",
       "      <td>74.0</td>\n",
       "      <td>18.1</td>\n",
       "      <td>49.0</td>\n",
       "      <td>8</td>\n",
       "      <td>9</td>\n",
       "    </tr>\n",
       "    <tr>\n",
       "      <th>13</th>\n",
       "      <td>2</td>\n",
       "      <td>91.4</td>\n",
       "      <td>20.1</td>\n",
       "      <td>60.4</td>\n",
       "      <td>2</td>\n",
       "      <td>10</td>\n",
       "    </tr>\n",
       "    <tr>\n",
       "      <th>14</th>\n",
       "      <td>3</td>\n",
       "      <td>85.0</td>\n",
       "      <td>17.8</td>\n",
       "      <td>56.1</td>\n",
       "      <td>14</td>\n",
       "      <td>14</td>\n",
       "    </tr>\n",
       "    <tr>\n",
       "      <th>15</th>\n",
       "      <td>3</td>\n",
       "      <td>79.8</td>\n",
       "      <td>9.8</td>\n",
       "      <td>44.8</td>\n",
       "      <td>9</td>\n",
       "      <td>10</td>\n",
       "    </tr>\n",
       "    <tr>\n",
       "      <th>16</th>\n",
       "      <td>3</td>\n",
       "      <td>72.0</td>\n",
       "      <td>10.2</td>\n",
       "      <td>37.3</td>\n",
       "      <td>7</td>\n",
       "      <td>9</td>\n",
       "    </tr>\n",
       "    <tr>\n",
       "      <th>17</th>\n",
       "      <td>3</td>\n",
       "      <td>95.3</td>\n",
       "      <td>11.0</td>\n",
       "      <td>51.5</td>\n",
       "      <td>15</td>\n",
       "      <td>23</td>\n",
       "    </tr>\n",
       "    <tr>\n",
       "      <th>18</th>\n",
       "      <td>3</td>\n",
       "      <td>69.3</td>\n",
       "      <td>8.5</td>\n",
       "      <td>39.3</td>\n",
       "      <td>4</td>\n",
       "      <td>9</td>\n",
       "    </tr>\n",
       "    <tr>\n",
       "      <th>19</th>\n",
       "      <td>3</td>\n",
       "      <td>89.8</td>\n",
       "      <td>11.2</td>\n",
       "      <td>58.2</td>\n",
       "      <td>24</td>\n",
       "      <td>25</td>\n",
       "    </tr>\n",
       "  </tbody>\n",
       "</table>\n",
       "</div>"
      ],
      "text/plain": [
       "    комнаты  пл. общая  кухня  пл. жилая  этаж  всего этажей\n",
       "0         1       38.5    6.9       18.9     3             5\n",
       "1         1       38.0    8.5       19.2     9            17\n",
       "2         1       34.7   10.3       19.8     1             9\n",
       "3         1       45.9   11.1       17.5    11            23\n",
       "4         1       42.4   10.0       19.9     6            14\n",
       "5         1       46.0   10.2       20.5     3            12\n",
       "6         2       77.7   13.2       39.3     3            17\n",
       "7         2       69.8   11.1       31.4    12            23\n",
       "8         2       78.2   19.4       33.2     4             9\n",
       "9         2       55.5    7.8       29.6     1            25\n",
       "10        2       74.3   16.0       34.2    14            17\n",
       "11        2       78.3   12.3       42.6    23            23\n",
       "12        2       74.0   18.1       49.0     8             9\n",
       "13        2       91.4   20.1       60.4     2            10\n",
       "14        3       85.0   17.8       56.1    14            14\n",
       "15        3       79.8    9.8       44.8     9            10\n",
       "16        3       72.0   10.2       37.3     7             9\n",
       "17        3       95.3   11.0       51.5    15            23\n",
       "18        3       69.3    8.5       39.3     4             9\n",
       "19        3       89.8   11.2       58.2    24            25"
      ]
     },
     "execution_count": 3,
     "metadata": {},
     "output_type": "execute_result"
    }
   ],
   "source": [
    "df_realty"
   ]
  },
  {
   "cell_type": "code",
   "execution_count": 4,
   "id": "9609f83e",
   "metadata": {},
   "outputs": [],
   "source": [
    "preference_index = 12\n",
    "preference_vector = df_realty.loc[preference_index].values"
   ]
  },
  {
   "cell_type": "code",
   "execution_count": 5,
   "id": "9a23184a",
   "metadata": {},
   "outputs": [
    {
     "data": {
      "text/plain": [
       "array([ 2. , 74. , 18.1, 49. ,  8. ,  9. ])"
      ]
     },
     "execution_count": 5,
     "metadata": {},
     "output_type": "execute_result"
    }
   ],
   "source": [
    "preference_vector"
   ]
  },
  {
   "cell_type": "code",
   "execution_count": 6,
   "id": "2a73fc4c",
   "metadata": {},
   "outputs": [],
   "source": [
    "distances = []\n",
    "for i in range(len(df_realty)):\n",
    "    x = df_realty.loc[i].values\n",
    "    distances.append(distance.euclidean(preference_vector, x))"
   ]
  },
  {
   "cell_type": "code",
   "execution_count": 7,
   "id": "ea0002f3",
   "metadata": {},
   "outputs": [
    {
     "data": {
      "text/plain": [
       "15"
      ]
     },
     "execution_count": 7,
     "metadata": {},
     "output_type": "execute_result"
    }
   ],
   "source": [
    "np.array(distances).argsort()[1]"
   ]
  },
  {
   "cell_type": "code",
   "execution_count": 8,
   "id": "972eae84",
   "metadata": {},
   "outputs": [
    {
     "data": {
      "text/plain": [
       "комнаты          2.0\n",
       "пл. общая       74.0\n",
       "кухня           18.1\n",
       "пл. жилая       49.0\n",
       "этаж             8.0\n",
       "всего этажей     9.0\n",
       "Name: 12, dtype: float64"
      ]
     },
     "execution_count": 8,
     "metadata": {},
     "output_type": "execute_result"
    }
   ],
   "source": [
    "df_realty.loc[12]"
   ]
  },
  {
   "cell_type": "code",
   "execution_count": 9,
   "id": "bd9a7e93",
   "metadata": {},
   "outputs": [
    {
     "data": {
      "text/plain": [
       "комнаты          3.0\n",
       "пл. общая       79.8\n",
       "кухня            9.8\n",
       "пл. жилая       44.8\n",
       "этаж             9.0\n",
       "всего этажей    10.0\n",
       "Name: 15, dtype: float64"
      ]
     },
     "execution_count": 9,
     "metadata": {},
     "output_type": "execute_result"
    }
   ],
   "source": [
    "df_realty.loc[15]"
   ]
  }
 ],
 "metadata": {
  "kernelspec": {
   "display_name": "Python 3 (ipykernel)",
   "language": "python",
   "name": "python3"
  },
  "language_info": {
   "codemirror_mode": {
    "name": "ipython",
    "version": 3
   },
   "file_extension": ".py",
   "mimetype": "text/x-python",
   "name": "python",
   "nbconvert_exporter": "python",
   "pygments_lexer": "ipython3",
   "version": "3.9.10"
  }
 },
 "nbformat": 4,
 "nbformat_minor": 5
}
