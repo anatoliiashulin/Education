{
 "cells": [
  {
   "cell_type": "code",
   "execution_count": 1,
   "id": "ba07c7e1",
   "metadata": {},
   "outputs": [],
   "source": [
    "import numpy as np \n",
    "import matplotlib.pyplot as plt\n",
    "import seaborn as sns \n",
    "\n",
    "plt.style.use('seaborn-darkgrid')"
   ]
  },
  {
   "cell_type": "markdown",
   "id": "dbdc695c",
   "metadata": {},
   "source": [
    "## Элементарная нейронная сеть"
   ]
  },
  {
   "cell_type": "markdown",
   "id": "74c37d49",
   "metadata": {},
   "source": [
    "    Поэксперементирую с первыми нейронными сетями. \n",
    "    Потом это будет для меня конспектом. \n",
    "    Создаю простейшую полносвязную нейронную сеть с 2умя слоями\n",
    "    На первом слоё будет 2 нейрона, на втором 1 нейрон\n",
    "    На вход подается 4 сигнала. \n",
    "    Функция активации пороговая "
   ]
  },
  {
   "cell_type": "code",
   "execution_count": 2,
   "id": "f7563c5d",
   "metadata": {},
   "outputs": [],
   "source": [
    "def act(x):\n",
    "    return 0 if x< 0.5 else 1"
   ]
  },
  {
   "cell_type": "code",
   "execution_count": 3,
   "id": "f82699e1",
   "metadata": {},
   "outputs": [],
   "source": [
    "def perceptron(x1, x2, x3, x4):\n",
    "    x = np.array([x1, x2, x3, x4])  #входные сигналы\n",
    "    w11 = [0.9, 0.2, 0.8, 0.2]   # веса первого нейрона\n",
    "    w12 = [0.1, 0.6, 0.1, 0.9]  # веса второго нейрона\n",
    "    weight1 = np.array([w11, w12])  #первый слой НС\n",
    "    weight2 = np.array([-0.1, 0.8])  #веса второго слоя НС\n",
    "    \n",
    "    sum_hidden = weight1 @ x    # получаю значение сумм на входах нейронов\n",
    "    print('Значение сумм на входах нейронов скрытого слоя: ' + str(sum_hidden))\n",
    "    \n",
    "    out_hidden = np.array([act(x) for x in sum_hidden])  # применяю функцию активации \n",
    "    print('Значение на выходах нейронов скрытого слоя: ' + str(out_hidden))\n",
    "    \n",
    "    sum_end = weight2 @ out_hidden  # получаю значение сумм на входе второго слоя\n",
    "    y = act(sum_end)  #применяю функцию активации \n",
    "    print('Выходное значение НС: ' + str(y))\n",
    "    return y"
   ]
  },
  {
   "cell_type": "code",
   "execution_count": 4,
   "id": "e3b35199",
   "metadata": {},
   "outputs": [
    {
     "name": "stdout",
     "output_type": "stream",
     "text": [
      "Значение сумм на входах нейронов скрытого слоя: [1.3 1.6]\n",
      "Значение на выходах нейронов скрытого слоя: [1 1]\n",
      "Выходное значение НС: 1\n",
      "Нейронная сеть активировалась\n"
     ]
    }
   ],
   "source": [
    "res = perceptron(1, 1, 0, 1)\n",
    "\n",
    "if res == 1:\n",
    "    print('Нейронная сеть активировалась')\n",
    "else:\n",
    "    print('Нейронная сеть выдала 0')"
   ]
  },
  {
   "cell_type": "markdown",
   "id": "edb0e882",
   "metadata": {},
   "source": [
    "## Возможности персептрона"
   ]
  },
  {
   "cell_type": "markdown",
   "id": "7ae5d3af",
   "metadata": {},
   "source": [
    "Нейронные сети возможно использовать для классификации "
   ]
  },
  {
   "cell_type": "code",
   "execution_count": 5,
   "id": "6747ff6d",
   "metadata": {},
   "outputs": [],
   "source": [
    "N = 30\n",
    "x1 = np.random.random(N)\n",
    "x2 = x1 + [np.random.randint(10)/10 for i in range(N)]\n",
    "C1 = [x1, x2]\n",
    "\n",
    "x1 = np.random.random(N)\n",
    "x2 = x1 - [np.random.randint(10)/10 for i in range(N)] - 0.1\n",
    "C2 = [x1, x2]"
   ]
  },
  {
   "cell_type": "markdown",
   "id": "27c64af9",
   "metadata": {},
   "source": [
    "Создаю 2 класса точек"
   ]
  },
  {
   "cell_type": "code",
   "execution_count": 6,
   "id": "1fd5904a",
   "metadata": {},
   "outputs": [
    {
     "name": "stdout",
     "output_type": "stream",
     "text": [
      "Класс С1\n",
      "Класс С1\n",
      "Класс С1\n",
      "Класс С1\n",
      "Класс С1\n",
      "Класс С1\n",
      "Класс С1\n",
      "Класс С1\n",
      "Класс С1\n",
      "Класс С1\n",
      "Класс С1\n",
      "Класс С1\n",
      "Класс С1\n",
      "Класс С1\n",
      "Класс С1\n",
      "Класс С1\n",
      "Класс С1\n",
      "Класс С1\n",
      "Класс С1\n",
      "Класс С1\n",
      "Класс С1\n",
      "Класс С1\n",
      "Класс С1\n",
      "Класс С1\n",
      "Класс С1\n",
      "Класс С1\n",
      "Класс С1\n",
      "Класс С1\n",
      "Класс С1\n",
      "Класс С1\n"
     ]
    },
    {
     "data": {
      "image/png": "[encoded data removed]",
      "text/plain": [
       "<Figure size 1080x504 with 1 Axes>"
      ]
     },
     "metadata": {},
     "output_type": "display_data"
    }
   ],
   "source": [
    "w = np.array([-0.5, 0.5])  #веса нейрона  \n",
    "for i in range(N):\n",
    "    x = np.array([C1[0][i], C1[1][i]])  #прохожусь по классу точек С1\n",
    "    y = w @ x   #получаю значение суммы на входе нейрона   \n",
    "    if y >= 0:  #далее идёт простейшая функция активации нейрона\n",
    "        print('Класс С1')\n",
    "    else:\n",
    "        print('Класс С2')\n",
    "        \n",
    "        \n",
    "        \n",
    "plt.figure(figsize= (15,7))        \n",
    "plt.scatter(C1[0][:], C1[1][:], s = 20, c = 'red')\n",
    "plt.scatter(C2[0][:], C2[1][:], s = 20, c = 'blue')\n",
    "plt.plot([0, 1])\n",
    "plt.grid(True)\n",
    "plt.show()"
   ]
  },
  {
   "cell_type": "markdown",
   "id": "6f98e1f9",
   "metadata": {},
   "source": [
    "## Смещение "
   ]
  },
  {
   "cell_type": "markdown",
   "id": "1c8f9dcb",
   "metadata": {},
   "source": [
    "На практике присутствует смещенние вдоль оси. Для этого добавляется bias к нейрону, что бы учитывать смещение"
   ]
  },
  {
   "cell_type": "code",
   "execution_count": 7,
   "id": "0269ca0c",
   "metadata": {},
   "outputs": [],
   "source": [
    "N = 30 # количество точек\n",
    "b = 4 # смещение \n",
    "x1 = np.random.random(N) \n",
    "x2 = x1 + [np.random.randint(10)/10 for i in range(N)] + b\n",
    "C1 = [x1, x2]  # точки первого класса \n",
    "\n",
    "x1 = np.random.random(N)\n",
    "x2 = x1 - [np.random.randint(10)/10 for i in range(N)] - 0.1 + b\n",
    "C2 = [x1, x2]  #точки второго класса "
   ]
  },
  {
   "cell_type": "code",
   "execution_count": 8,
   "id": "7a40b53a",
   "metadata": {},
   "outputs": [
    {
     "name": "stdout",
     "output_type": "stream",
     "text": [
      "Класс С1\n",
      "Класс С1\n",
      "Класс С1\n",
      "Класс С1\n",
      "Класс С1\n",
      "Класс С1\n",
      "Класс С1\n",
      "Класс С1\n",
      "Класс С1\n",
      "Класс С1\n",
      "Класс С1\n",
      "Класс С1\n",
      "Класс С1\n",
      "Класс С1\n",
      "Класс С1\n",
      "Класс С1\n",
      "Класс С1\n",
      "Класс С1\n",
      "Класс С1\n",
      "Класс С1\n",
      "Класс С1\n",
      "Класс С1\n",
      "Класс С1\n",
      "Класс С1\n",
      "Класс С1\n",
      "Класс С1\n",
      "Класс С1\n",
      "Класс С1\n",
      "Класс С1\n",
      "Класс С1\n"
     ]
    },
    {
     "data": {
      "image/png": "[encoded data removed]",
      "text/plain": [
       "<Figure size 1080x504 with 1 Axes>"
      ]
     },
     "metadata": {},
     "output_type": "display_data"
    }
   ],
   "source": [
    "w1 = 0.5  # весовой коэффициент \n",
    "w3 = -b*w1  # bias\n",
    "w = np.array([-w1, w1, w3])  #веса нейрона\n",
    "for i in range(N):\n",
    "    x = np.array([C1[0][i], C1[1][i], 1])\n",
    "    y = np.dot(w, x)\n",
    "    if y >= 0:\n",
    "        print('Класс С1')\n",
    "    else:\n",
    "        print('Класс С2')\n",
    "        \n",
    "plt.figure(figsize = (15,7))\n",
    "plt.scatter(C1[0][:], C1[1][:], s = 20, c = 'red')\n",
    "plt.scatter(C2[0][:], C2[1][:], s = 20, c = 'blue')\n",
    "plt.plot([0+b, 1+b])\n",
    "plt.grid(True)\n",
    "plt.show()"
   ]
  },
  {
   "cell_type": "markdown",
   "id": "740697ce",
   "metadata": {},
   "source": [
    "## Задача XOR"
   ]
  },
  {
   "cell_type": "code",
   "execution_count": 9,
   "id": "db454e5e",
   "metadata": {},
   "outputs": [],
   "source": [
    "def XOR(C):\n",
    "    x = np.array([C[0], C[1], 1]) #передаю на вход значения координаты точек +bias\n",
    "    w1 = [1, 1, -1.5]   #веса первого нейрона\n",
    "    w2 = [1, 1, -0.5]   #веса второго нейрона\n",
    "    w_hidden = np.array([w1, w2])   #первый слой\n",
    "    w_out = np.array([-1, 1, -0.5])  #веса второго слоя \n",
    "    \n",
    "    sum = w_hidden @ x \n",
    "    out = [act(x) for x in sum]\n",
    "    out.append(1)  # добавляю bias \n",
    "    out = np.array(out)\n",
    "    \n",
    "    sum = w_out @ out\n",
    "    y = act(sum)\n",
    "    return y"
   ]
  },
  {
   "cell_type": "code",
   "execution_count": 10,
   "id": "38d37c03",
   "metadata": {},
   "outputs": [
    {
     "name": "stdout",
     "output_type": "stream",
     "text": [
      "1 1\n",
      "0 0\n"
     ]
    }
   ],
   "source": [
    "C1 = [(1, 0), (0, 1)]\n",
    "C2 = [(0, 0), (1, 1)]\n",
    "\n",
    "print(XOR(C1[0]), XOR(C1[1]))\n",
    "print(XOR(C2[0]), XOR(C2[1]))"
   ]
  }
 ],
 "metadata": {
  "kernelspec": {
   "display_name": "Python 3 (ipykernel)",
   "language": "python",
   "name": "python3"
  },
  "language_info": {
   "codemirror_mode": {
    "name": "ipython",
    "version": 3
   },
   "file_extension": ".py",
   "mimetype": "text/x-python",
   "name": "python",
   "nbconvert_exporter": "python",
   "pygments_lexer": "ipython3",
   "version": "3.9.10"
  }
 },
 "nbformat": 4,
 "nbformat_minor": 5
}
