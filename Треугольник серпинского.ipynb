{
 "cells": [
  {
   "cell_type": "code",
   "execution_count": 3,
   "id": "d5f697a2",
   "metadata": {},
   "outputs": [],
   "source": [
    "import pygame \n",
    "import random"
   ]
  },
  {
   "cell_type": "code",
   "execution_count": null,
   "id": "c5c562fe",
   "metadata": {},
   "outputs": [],
   "source": [
    "pygame.init()\n",
    "\n",
    "win = pygame.display.set_mode((1000,1000))\n",
    "\n",
    "pygame.display.set_caption('Треугольник Серпинского')\n",
    "\n",
    "Triangle = [[500, 50], [100, 950], [900, 950]]\n",
    "\n",
    "x, y = random.randint(0, 1000), random.randint(0, 1000)\n",
    "\n",
    "RUN = True\n",
    "while RUN:\n",
    "    for event in pygame.event.get():\n",
    "        if event.type == pygame.QUIT:\n",
    "            RUN = False\n",
    "    A = random.randint(0, 2)\n",
    "    x, y = .5* (x + Triangle[A][0]), .5 * (y + Triangle[A][1])\n",
    "    pygame.draw.line(win, (255, 255, 255), (x,y), (x,y), 1)\n",
    "    pygame.display.update()\n",
    "    \n",
    "pygame.quit()"
   ]
  },
  {
   "cell_type": "code",
   "execution_count": null,
   "id": "9029987f",
   "metadata": {},
   "outputs": [],
   "source": []
  },
  {
   "cell_type": "code",
   "execution_count": null,
   "id": "610b461e",
   "metadata": {},
   "outputs": [],
   "source": []
  }
 ],
 "metadata": {
  "kernelspec": {
   "display_name": "Python 3 (ipykernel)",
   "language": "python",
   "name": "python3"
  },
  "language_info": {
   "codemirror_mode": {
    "name": "ipython",
    "version": 3
   },
   "file_extension": ".py",
   "mimetype": "text/x-python",
   "name": "python",
   "nbconvert_exporter": "python",
   "pygments_lexer": "ipython3",
   "version": "3.9.10"
  }
 },
 "nbformat": 4,
 "nbformat_minor": 5
}
