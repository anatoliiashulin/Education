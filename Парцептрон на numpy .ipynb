{
 "cells": [
  {
   "cell_type": "code",
   "execution_count": 1,
   "id": "07a80df7",
   "metadata": {},
   "outputs": [],
   "source": [
    "import numpy as np"
   ]
  },
  {
   "cell_type": "code",
   "execution_count": 2,
   "id": "55f1b692",
   "metadata": {},
   "outputs": [],
   "source": [
    "def f(x): #функция активаци  \n",
    "    return 2/(1+np.exp(-x)) -1"
   ]
  },
  {
   "cell_type": "code",
   "execution_count": 3,
   "id": "62fd7c0a",
   "metadata": {},
   "outputs": [],
   "source": [
    "def df(x): #производная функции активации \n",
    "    return 0.5*(1+x)*(1-x)"
   ]
  },
  {
   "cell_type": "code",
   "execution_count": 4,
   "id": "cf3e9bee",
   "metadata": {},
   "outputs": [],
   "source": [
    "W1 = np.array([[-0.2, 0.3, -0.4], [0.1, -0.3, -0.4]])  # веса первого слоя нейрона\n",
    "W2 = np.array([0.2, 0.3])  # веса второго слоя"
   ]
  },
  {
   "cell_type": "code",
   "execution_count": 5,
   "id": "874b8aea",
   "metadata": {},
   "outputs": [],
   "source": [
    "def go_forward(inp):\n",
    "    sum = np.dot(W1, inp)\n",
    "    out = np.array([f(x) for x in sum])\n",
    "    \n",
    "    sum = np.dot(W2, out)\n",
    "    y = f(sum)\n",
    "    return (y, out)"
   ]
  },
  {
   "cell_type": "code",
   "execution_count": 6,
   "id": "860af340",
   "metadata": {},
   "outputs": [],
   "source": [
    "def train(epoch):\n",
    "    global W2, W1\n",
    "    lmd = 0.004 #шаг обучения\n",
    "    N = 200000 #число итераций при обучении\n",
    "    count = len(epoch)\n",
    "    for k in range(N):\n",
    "        x = epoch[np.random.randint(0, count)] #случайный выбор входного сигнала из обучающей выборки\n",
    "        y, out = go_forward(x[0:3]) # прямой проход по НС и вычисление входных значений нейронной сети \n",
    "        e = y - x[-1]   # ошибка\n",
    "        delta = e*df(y) #локальный градиент\n",
    "        W2[0] = W2[0] - lmd * delta * out[0]  # корректировка веса первой связи\n",
    "        W2[1] = W2[1] - lmd * delta * out[1]  # корректировка веса второй связи\n",
    "        \n",
    "        delta2 = W2*delta*df(out)    #вектор из 2-х величин локальных градиентов\n",
    "        \n",
    "        #корректрировка связей первого слоя\n",
    "        W1[0, :] = W1[0, :] - np.array(x[0:3]) * delta2[0] * lmd\n",
    "        W1[1, :] = W1[1, :] - np.array(x[0:3]) * delta2[1] * lmd"
   ]
  },
  {
   "cell_type": "code",
   "execution_count": 7,
   "id": "b0e91a85",
   "metadata": {},
   "outputs": [],
   "source": [
    "#обучающая выборка \n",
    "epoch = [(-1, -1, -1, -1),\n",
    "         (-1, -1, 1, 1), \n",
    "         (-1, 1, -1, -1), \n",
    "         (-1, 1, 1, 1), \n",
    "         (1, -1, -1, -1), \n",
    "         (1, -1, 1, 1),\n",
    "         (1, 1, -1, -1),\n",
    "         (1, 1, 1, -1)]"
   ]
  },
  {
   "cell_type": "code",
   "execution_count": 8,
   "id": "b9ea6377",
   "metadata": {},
   "outputs": [],
   "source": [
    "train(epoch)"
   ]
  },
  {
   "cell_type": "code",
   "execution_count": 9,
   "id": "fd4d96fe",
   "metadata": {},
   "outputs": [
    {
     "name": "stdout",
     "output_type": "stream",
     "text": [
      "Выходное значение HC: -0.08807822903613927 => -1\n",
      "Выходное значение HC: 0.9763670623734828 => 1\n",
      "Выходное значение HC: -0.9600334359068379 => -1\n",
      "Выходное значение HC: 0.9629927558247076 => 1\n",
      "Выходное значение HC: -0.9629927558247077 => -1\n",
      "Выходное значение HC: 0.9600334359068381 => 1\n",
      "Выходное значение HC: -0.9763670623734828 => -1\n",
      "Выходное значение HC: 0.08807822903613927 => -1\n"
     ]
    }
   ],
   "source": [
    "for x in epoch:\n",
    "    y, out = go_forward(x[0:3])\n",
    "    print(f'Выходное значение HC: {y} => {x[-1]}')"
   ]
  },
  {
   "cell_type": "code",
   "execution_count": null,
   "id": "6c0ac186",
   "metadata": {},
   "outputs": [],
   "source": []
  },
  {
   "cell_type": "code",
   "execution_count": null,
   "id": "fd73d6f8",
   "metadata": {},
   "outputs": [],
   "source": []
  },
  {
   "cell_type": "code",
   "execution_count": null,
   "id": "8074b538",
   "metadata": {},
   "outputs": [],
   "source": []
  },
  {
   "cell_type": "code",
   "execution_count": null,
   "id": "c1d60c72",
   "metadata": {},
   "outputs": [],
   "source": []
  },
  {
   "cell_type": "code",
   "execution_count": null,
   "id": "f82d95d6",
   "metadata": {},
   "outputs": [],
   "source": []
  },
  {
   "cell_type": "code",
   "execution_count": null,
   "id": "2f615aae",
   "metadata": {},
   "outputs": [],
   "source": []
  },
  {
   "cell_type": "code",
   "execution_count": null,
   "id": "926b0ce9",
   "metadata": {},
   "outputs": [],
   "source": []
  },
  {
   "cell_type": "code",
   "execution_count": 10,
   "id": "6b164aff",
   "metadata": {},
   "outputs": [
    {
     "data": {
      "text/plain": [
       "array([0.3, 0.6])"
      ]
     },
     "execution_count": 10,
     "metadata": {},
     "output_type": "execute_result"
    }
   ],
   "source": [
    "z = np.array([[-0.2, 0.3, -0.4], [0.1, -0.3, -0.4]]) @ np.array([-1, -1, -1])\n",
    "z"
   ]
  },
  {
   "cell_type": "code",
   "execution_count": 11,
   "id": "5258f9cd",
   "metadata": {},
   "outputs": [
    {
     "data": {
      "text/plain": [
       "array([0.14888503, 0.29131261])"
      ]
     },
     "execution_count": 11,
     "metadata": {},
     "output_type": "execute_result"
    }
   ],
   "source": [
    "np.array([f(x) for x in z])"
   ]
  },
  {
   "cell_type": "code",
   "execution_count": 12,
   "id": "2e3c2f01",
   "metadata": {},
   "outputs": [
    {
     "data": {
      "text/plain": [
       "0.11717079046014085"
      ]
     },
     "execution_count": 12,
     "metadata": {},
     "output_type": "execute_result"
    }
   ],
   "source": [
    "z2 = np.array([0.2, 0.3]) @ np.array([f(x) for x in z])\n",
    "z2"
   ]
  },
  {
   "cell_type": "code",
   "execution_count": 13,
   "id": "39105d91",
   "metadata": {},
   "outputs": [
    {
     "data": {
      "text/plain": [
       "0.058518460577478004"
      ]
     },
     "execution_count": 13,
     "metadata": {},
     "output_type": "execute_result"
    }
   ],
   "source": [
    "f(z2)"
   ]
  }
 ],
 "metadata": {
  "kernelspec": {
   "display_name": "Python 3 (ipykernel)",
   "language": "python",
   "name": "python3"
  },
  "language_info": {
   "codemirror_mode": {
    "name": "ipython",
    "version": 3
   },
   "file_extension": ".py",
   "mimetype": "text/x-python",
   "name": "python",
   "nbconvert_exporter": "python",
   "pygments_lexer": "ipython3",
   "version": "3.9.10"
  }
 },
 "nbformat": 4,
 "nbformat_minor": 5
}
